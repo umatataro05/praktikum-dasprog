{
  "nbformat": 4,
  "nbformat_minor": 0,
  "metadata": {
    "colab": {
      "provenance": [],
      "toc_visible": true
    },
    "kernelspec": {
      "name": "python3",
      "display_name": "Python 3"
    },
    "language_info": {
      "name": "python"
    }
  },
  "cells": [
    {
      "cell_type": "code",
      "execution_count": 1,
      "metadata": {
        "colab": {
          "base_uri": "https://localhost:8080/"
        },
        "id": "50_f5SjPmRkR",
        "outputId": "c292c09f-664d-425a-8140-c074947a6571"
      },
      "outputs": [
        {
          "output_type": "stream",
          "name": "stdout",
          "text": [
            "One of my favorite desserts is Churros\n",
            "One of my favorite desserts is Tiramisú\n",
            "One of my favorite desserts is Pudding\n"
          ]
        }
      ],
      "source": [
        "favorites = ['Churros', 'Tiramisú', 'Pudding']\n",
        "\n",
        "count = 0\t\t# count is iteration variable\n",
        "\n",
        "while count < len(favorites):\n",
        "    print('One of my favorite desserts is', favorites[count]);\n",
        "    count += 1\n"
      ]
    },
    {
      "cell_type": "code",
      "source": [
        "time = 0\n",
        "population = 250\n",
        "growth_rate = 0.25\n",
        "while population < 900:\n",
        "    population = population + growth_rate*population\n",
        "    print(round(population))\n",
        "    time = time + 1\n",
        "print('it took', time, 'to bacteria double the population')\n",
        "print('the final population', round(population), 'of bacteria')"
      ],
      "metadata": {
        "colab": {
          "base_uri": "https://localhost:8080/"
        },
        "id": "4e6J6TEvOhwu",
        "outputId": "6a67bb15-b31c-400a-fc77-406f78f5c37a"
      },
      "execution_count": 2,
      "outputs": [
        {
          "output_type": "stream",
          "name": "stdout",
          "text": [
            "312\n",
            "391\n",
            "488\n",
            "610\n",
            "763\n",
            "954\n",
            "it took 6 to bacteria double the population\n",
            "the final population 954 of bacteria\n"
          ]
        }
      ]
    },
    {
      "cell_type": "code",
      "source": [
        "favorites = ['Churros', 'Tiramisú', 'Pudding']\n",
        "\n",
        "for dessert in favorites:\n",
        "    print('One of my favorite desserts is', dessert)"
      ],
      "metadata": {
        "colab": {
          "base_uri": "https://localhost:8080/"
        },
        "id": "hF2I1Ub4OzoK",
        "outputId": "9b17ee60-bfea-4635-f022-24a017b14de6"
      },
      "execution_count": 3,
      "outputs": [
        {
          "output_type": "stream",
          "name": "stdout",
          "text": [
            "One of my favorite desserts is Churros\n",
            "One of my favorite desserts is Tiramisú\n",
            "One of my favorite desserts is Pudding\n"
          ]
        }
      ]
    },
    {
      "cell_type": "code",
      "source": [
        "country = 'Republik Indonesia'\n",
        "for ch in country:\n",
        "    print(ch, end=' ')"
      ],
      "metadata": {
        "colab": {
          "base_uri": "https://localhost:8080/"
        },
        "id": "KifF193nO7G_",
        "outputId": "d8340da4-88b1-4f2d-dd6b-df98ae1b9c12"
      },
      "execution_count": 4,
      "outputs": [
        {
          "output_type": "stream",
          "name": "stdout",
          "text": [
            "R e p u b l i k   I n d o n e s i a "
          ]
        }
      ]
    },
    {
      "cell_type": "code",
      "source": [
        "survey_responses = [\"positive\", \"neutral\", \"positive\", \"negative\", \"positive\", \"positive\", \"neutral\"]\n",
        "\n",
        "positive_count = 0\n",
        "\n",
        "for response in survey_responses:\n",
        "    if response == \"positive\":\n",
        "        positive_count += 1\n",
        "\n",
        "print(f\"Number of positive responses: {positive_count}\")"
      ],
      "metadata": {
        "colab": {
          "base_uri": "https://localhost:8080/"
        },
        "id": "xvvUtBoXPBGK",
        "outputId": "8bc76d06-7f7d-4259-9424-1609b58fca43"
      },
      "execution_count": 5,
      "outputs": [
        {
          "output_type": "stream",
          "name": "stdout",
          "text": [
            "Number of positive responses: 4\n"
          ]
        }
      ]
    },
    {
      "cell_type": "code",
      "source": [
        "sales_transactions = [100.50, 75.25, 50.75, 30.00, 45.50]\n",
        "\n",
        "total_revenue = 0\n",
        "\n",
        "for transaction in sales_transactions:\n",
        "    total_revenue += transaction\n",
        "\n",
        "print(f\"Total revenue: ${total_revenue:.2f}\")"
      ],
      "metadata": {
        "colab": {
          "base_uri": "https://localhost:8080/"
        },
        "id": "CKTpZ50APDTf",
        "outputId": "903fcaa2-713f-4067-cfa8-a6783b43fe1c"
      },
      "execution_count": 6,
      "outputs": [
        {
          "output_type": "stream",
          "name": "stdout",
          "text": [
            "Total revenue: $302.00\n"
          ]
        }
      ]
    },
    {
      "cell_type": "code",
      "source": [
        "email_addresses = [\"user1@spam.com\", \"user2@gmail.com\", \"user3@spam.com\"]\n",
        "\n",
        "spam_emails = []\n",
        "\n",
        "for email in email_addresses:\n",
        "    if email.endswith(\"@spam.com\"):\n",
        "        spam_emails.append(email)\n",
        "\n",
        "print(\"Spam emails:\")\n",
        "for email in spam_emails:\n",
        "    print(email)"
      ],
      "metadata": {
        "colab": {
          "base_uri": "https://localhost:8080/"
        },
        "id": "p_2syQQ-PFtA",
        "outputId": "2d903a16-73b9-4784-9a92-59ef329da085"
      },
      "execution_count": 7,
      "outputs": [
        {
          "output_type": "stream",
          "name": "stdout",
          "text": [
            "Spam emails:\n",
            "user1@spam.com\n",
            "user3@spam.com\n"
          ]
        }
      ]
    },
    {
      "cell_type": "code",
      "source": [
        "student_names = [\"Alice\", \"Bob\", \"Charlie\", \"David\"]\n",
        "student_name_to_search = \"Charlie\"\n",
        "\n",
        "student_found = False\n",
        "\n",
        "for name in student_names:\n",
        "    if name == student_name_to_search:\n",
        "        student_found = True\n",
        "        break\n",
        "\n",
        "if student_found:\n",
        "    print(f\"Student {student_name_to_search} found.\")\n",
        "else:\n",
        "    print(f\"Student {student_name_to_search} not found.\")"
      ],
      "metadata": {
        "colab": {
          "base_uri": "https://localhost:8080/"
        },
        "id": "fC7wqnVcPJm1",
        "outputId": "afb51cb4-8370-43bb-be65-8a53b6db2295"
      },
      "execution_count": 8,
      "outputs": [
        {
          "output_type": "stream",
          "name": "stdout",
          "text": [
            "Student Charlie found.\n"
          ]
        }
      ]
    },
    {
      "cell_type": "code",
      "source": [
        "temperatures = [75, 82, 79, 88, 91, 84, 77]\n",
        "max_temperature = temperatures[0]\n",
        "\n",
        "for temperature in temperatures:\n",
        "    if temperature > max_temperature:\n",
        "        max_temperature = temperature\n",
        "\n",
        "print(f\"The maximum temperature of the week was {max_temperature}°F.\")"
      ],
      "metadata": {
        "colab": {
          "base_uri": "https://localhost:8080/"
        },
        "id": "Nh07FmkYPKSL",
        "outputId": "e1ed7a94-a29d-43c6-cc65-716bb1598f92"
      },
      "execution_count": 9,
      "outputs": [
        {
          "output_type": "stream",
          "name": "stdout",
          "text": [
            "The maximum temperature of the week was 91°F.\n"
          ]
        }
      ]
    },
    {
      "cell_type": "code",
      "source": [
        "import time\n",
        "\n",
        "countdown_seconds = 5\n",
        "\n",
        "print(\"Get ready for liftoff!\")\n",
        "for remaining_seconds in range(countdown_seconds, 0, -1):\n",
        "    print(f\"{remaining_seconds}...\")\n",
        "    time.sleep(1)\n",
        "\n",
        "print(\"Blast off!\")"
      ],
      "metadata": {
        "colab": {
          "base_uri": "https://localhost:8080/"
        },
        "id": "I9f5dzxoPNP5",
        "outputId": "236ae97f-7d1f-4ce3-f0f0-e21eda14961c"
      },
      "execution_count": 10,
      "outputs": [
        {
          "output_type": "stream",
          "name": "stdout",
          "text": [
            "Get ready for liftoff!\n",
            "5...\n",
            "4...\n",
            "3...\n",
            "2...\n",
            "1...\n",
            "Blast off!\n"
          ]
        }
      ]
    },
    {
      "cell_type": "code",
      "source": [
        "outer = ['Li', 'Na', 'K']\n",
        "inner = ['F', 'Cl', 'Br']\n",
        "for metal in outer:\n",
        "    for halogen in inner:\n",
        "        print(metal + halogen)"
      ],
      "metadata": {
        "colab": {
          "base_uri": "https://localhost:8080/"
        },
        "id": "ibwpsEa1PPE7",
        "outputId": "3e748bb6-d9d7-42cf-d296-cc35f1940bbe"
      },
      "execution_count": 11,
      "outputs": [
        {
          "output_type": "stream",
          "name": "stdout",
          "text": [
            "LiF\n",
            "LiCl\n",
            "LiBr\n",
            "NaF\n",
            "NaCl\n",
            "NaBr\n",
            "KF\n",
            "KCl\n",
            "KBr\n"
          ]
        }
      ]
    },
    {
      "cell_type": "code",
      "source": [
        "favorites = ['Churros', 'Tiramisú', 'Pudding']\n",
        "\n",
        "for dessert in favorites:\n",
        "    if dessert == 'Pudding':\n",
        "        print('My favorite is', dessert)\n",
        "        break\n",
        "else:\n",
        "    print('No sorry, not a dessert on my list')"
      ],
      "metadata": {
        "colab": {
          "base_uri": "https://localhost:8080/"
        },
        "id": "WM3tjQSwPSYC",
        "outputId": "d1366669-d2e8-4bef-bfd5-55cb57d4b4be"
      },
      "execution_count": 12,
      "outputs": [
        {
          "output_type": "stream",
          "name": "stdout",
          "text": [
            "My favorite is Pudding\n"
          ]
        }
      ]
    },
    {
      "cell_type": "code",
      "source": [
        "favorites = ['Churros', 'Tiramisú', 'Pudding']\n",
        "\n",
        "for dessert in favorites:\n",
        "    if dessert == 'Churros':\n",
        "        continue\n",
        "    print('Other desserts I like are', dessert)"
      ],
      "metadata": {
        "colab": {
          "base_uri": "https://localhost:8080/"
        },
        "id": "XjrkYWsXPV9i",
        "outputId": "19358110-6215-4a27-d878-5109deae8778"
      },
      "execution_count": 13,
      "outputs": [
        {
          "output_type": "stream",
          "name": "stdout",
          "text": [
            "Other desserts I like are Tiramisú\n",
            "Other desserts I like are Pudding\n"
          ]
        }
      ]
    },
    {
      "cell_type": "code",
      "source": [
        "customers = [\"Alice\", \"Bob\", \"Charlie\"]\n",
        "\n",
        "for customer in customers:\n",
        "    if customer == \"Charlie\":\n",
        "        pass  # Implementation for Charlie later\n",
        "    else:\n",
        "        print(\"a\")"
      ],
      "metadata": {
        "colab": {
          "base_uri": "https://localhost:8080/"
        },
        "id": "NPnj6lfEPWCk",
        "outputId": "0b0ffdee-0a2f-4a17-d6c7-97e4a9d296f3"
      },
      "execution_count": 14,
      "outputs": [
        {
          "output_type": "stream",
          "name": "stdout",
          "text": [
            "a\n",
            "a\n"
          ]
        }
      ]
    },
    {
      "cell_type": "code",
      "source": [
        "students = [\"Alice\", \"Bob\", \"Charlie\", \"David\"]\n",
        "scores = [85, 92, 78, 88]\n",
        "threshold = 90\n",
        "\n",
        "# GOOD: Find who scored above threshold using zip()\n",
        "for student, score in zip(students, scores):\n",
        "    if score > threshold:\n",
        "        print(f\"{student} scored {score}\")"
      ],
      "metadata": {
        "colab": {
          "base_uri": "https://localhost:8080/"
        },
        "id": "SNKWHSmhPYCo",
        "outputId": "a18d6c7d-55b2-42ae-dfc9-9bfb87de50d7"
      },
      "execution_count": 15,
      "outputs": [
        {
          "output_type": "stream",
          "name": "stdout",
          "text": [
            "Bob scored 92\n"
          ]
        }
      ]
    },
    {
      "cell_type": "code",
      "source": [
        "import math\n",
        "\n",
        "# Sample list of points as (x, y) coordinates\n",
        "points = [(1, 2), (3, 4), (5, 6), (7, 8)]\n",
        "\n",
        "# Calculate distances between each pair of points\n",
        "distances = {}\n",
        "\n",
        "for i, point1 in enumerate(points):\n",
        "    for j, point2 in enumerate(points):\n",
        "        if i < j:  # Avoid redundancy (i.e., distance point1 and point2 = point2 and point1)\n",
        "            x1, y1 = point1\n",
        "            x2, y2 = point2\n",
        "            distance = math.sqrt((x2 - x1) ** 2 + (y2 - y1) ** 2)\n",
        "            distances[(i, j)] = distance\n",
        "\n",
        "# Print the distances\n",
        "for (i, j), distance in distances.items():\n",
        "    print(f\"Distance between points {i} and {j}: {distance:.2f}\")"
      ],
      "metadata": {
        "colab": {
          "base_uri": "https://localhost:8080/"
        },
        "id": "OoCAPPu1Pb47",
        "outputId": "750d7e12-8b6f-4ed7-eaaf-a62aaa50dbdf"
      },
      "execution_count": 16,
      "outputs": [
        {
          "output_type": "stream",
          "name": "stdout",
          "text": [
            "Distance between points 0 and 1: 2.83\n",
            "Distance between points 0 and 2: 5.66\n",
            "Distance between points 0 and 3: 8.49\n",
            "Distance between points 1 and 2: 2.83\n",
            "Distance between points 1 and 3: 5.66\n",
            "Distance between points 2 and 3: 2.83\n"
          ]
        }
      ]
    }
  ]
}